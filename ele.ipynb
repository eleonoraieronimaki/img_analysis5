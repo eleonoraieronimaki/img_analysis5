{
 "cells": [
  {
   "cell_type": "code",
   "execution_count": null,
   "metadata": {},
   "outputs": [],
   "source": [
    "import diplib as dip\n",
    "import numpy as np\n",
    "import matplotlib.pyplot as plt\n",
    "import os\n",
    "from utilities import *"
   ]
  },
  {
   "cell_type": "code",
   "execution_count": null,
   "metadata": {},
   "outputs": [],
   "source": [
    "# dip_blue, blue_names = load_dip_images('blues')\n",
    "# # dip_gray, grays_names = load_dip_images('gray')\n",
    "# dip_blue[21].Show()"
   ]
  },
  {
   "cell_type": "code",
   "execution_count": null,
   "metadata": {},
   "outputs": [],
   "source": [
    "# create blu and gray images from data\n",
    "dip_images, dip_names = load_dip_images('data')\n",
    "\n",
    "dip_gray, dip_blue = make_grayscale(dip_images)\n",
    "save_images(dip_gray, 'gray', \"gray\", file_type=[\"tif\"])\n",
    "save_images(dip_blue, 'blues', \"blue\", file_type=[\"tif\"])\n",
    "\n",
    "dip_gray[21].Show()"
   ]
  },
  {
   "cell_type": "code",
   "execution_count": null,
   "metadata": {},
   "outputs": [],
   "source": [
    "# threshold and morphological operators\n",
    "dip_thresh = threshold_images(dip_blue)\n",
    "save_images(dip_thresh, 'thresh', \"thresh\", file_type=[\"tif\"])\n",
    "dip_transf = apply_transformations(dip_thresh)\n",
    "save_images(dip_transf, 'transf', \"transf\", file_type=[\"tif\"])\n",
    "\n",
    "dip_thresh[21].Show()\n",
    "dip_transf[21].Show()"
   ]
  },
  {
   "cell_type": "code",
   "execution_count": null,
   "metadata": {},
   "outputs": [],
   "source": [
    "features = ['Perimeter', 'Size',\n",
    "                'Circularity','Roundness',\n",
    "                'Statistics']\n",
    "                \n",
    "dip_labeled, measurements = measure_elements(dip_transf, dip_gray, features=features)"
   ]
  },
  {
   "cell_type": "code",
   "execution_count": null,
   "metadata": {},
   "outputs": [],
   "source": [
    "measurements"
   ]
  },
  {
   "cell_type": "code",
   "execution_count": null,
   "metadata": {},
   "outputs": [],
   "source": [
    "img = dip_images[0]\n",
    "arr = np.array(img)\n",
    "aa = arr[:,:,2]\n",
    "blue = dip.Image(aa)\n",
    "blue.Show()\n",
    "blue = dip.Gauss(blue, sigmas=[2])\n",
    "thresh= dip.TriangleThreshold(blue)\n",
    "\n",
    "open = dip.Opening(thresh)\n",
    "\n",
    "\n",
    "thresh.Show()"
   ]
  },
  {
   "cell_type": "code",
   "execution_count": null,
   "metadata": {},
   "outputs": [],
   "source": [
    "arr"
   ]
  },
  {
   "cell_type": "code",
   "execution_count": null,
   "metadata": {},
   "outputs": [],
   "source": [
    "np.array(blue)"
   ]
  },
  {
   "cell_type": "code",
   "execution_count": null,
   "metadata": {},
   "outputs": [],
   "source": [
    "np.where(aa ==0)"
   ]
  },
  {
   "cell_type": "code",
   "execution_count": null,
   "metadata": {},
   "outputs": [],
   "source": [
    "np.array(dip_images[:,;,2])"
   ]
  },
  {
   "cell_type": "code",
   "execution_count": null,
   "metadata": {},
   "outputs": [],
   "source": [
    "blues=[]\n",
    "grays = []\n",
    "for img in dip_images:\n",
    "    array= np.array(img)\n",
    "    new_img = dip.ColorSpaceManager.Convert(img, \"gray\")\n",
    "    blue_img = dip.Image(array[:,:,2])\n",
    "    blues.append(blue_img)\n",
    "    grays.append(new_img)"
   ]
  },
  {
   "cell_type": "code",
   "execution_count": null,
   "metadata": {},
   "outputs": [],
   "source": []
  }
 ],
 "metadata": {
  "interpreter": {
   "hash": "b134e35f1c6e29159023eba8bbf308b62c168a50f851ee85430275284d62dbae"
  },
  "kernelspec": {
   "display_name": "Python 3.8.11 ('Machine_Learning')",
   "language": "python",
   "name": "python3"
  },
  "language_info": {
   "codemirror_mode": {
    "name": "ipython",
    "version": 3
   },
   "file_extension": ".py",
   "mimetype": "text/x-python",
   "name": "python",
   "nbconvert_exporter": "python",
   "pygments_lexer": "ipython3",
   "version": "3.8.11"
  },
  "orig_nbformat": 4
 },
 "nbformat": 4,
 "nbformat_minor": 2
}
