{
 "cells": [
  {
   "cell_type": "code",
   "execution_count": null,
   "metadata": {},
   "outputs": [],
   "source": [
    "import diplib as dip\n",
    "import numpy as np\n",
    "import matplotlib.pyplot as plt\n",
    "import os\n",
    "import pandas as pd\n",
    "from skimage.io import imread\n",
    "from skimage.feature import hog\n",
    "import matplotlib.pyplot as plt\n",
    "from utilities import *\n",
    "from sklearn.cluster import KMeans"
   ]
  },
  {
   "cell_type": "code",
   "execution_count": null,
   "metadata": {},
   "outputs": [],
   "source": [
    "dip_images, dip_names = load_dip_images('data')\n",
    "dip_blues, dip_names = load_dip_images('blues')\n",
    "dip_grays, dip_names = load_dip_images('gray')\n",
    "dip_thresh, dip_names = load_dip_images('thresh')\n",
    "dip_transf, dip_names = load_dip_images('transf')\n",
    "blue_areas, dip_names = load_dip_images('blue_areas')\n",
    "# blue_grays, dip_names = load_dip_images('blue_grays')\n",
    "hog_imgs_shape, dip_names = load_dip_images('hog_embryos')\n",
    "hog_imgs_blue, dip_names = load_dip_images('hog_blues')\n",
    "crop_original, dip_names = load_dip_images('crop_original')\n"
   ]
  },
  {
   "cell_type": "code",
   "execution_count": null,
   "metadata": {},
   "outputs": [],
   "source": [
    "features = ['Perimeter', 'Size',\n",
    "                'Circularity', 'Roundness',\n",
    "                'StandardDeviation', 'Minimum','Maximum']\n",
    "\n",
    "label_images, measurements = measure_elements(dip_transf,dip_blues, features)\n",
    "\n",
    "areas, perimeters, circularity, roundness, stand_dev, minimum, maximum = measurements_array(measurements, features)"
   ]
  },
  {
   "cell_type": "code",
   "execution_count": null,
   "metadata": {},
   "outputs": [],
   "source": [
    "label_images, measurements = measure_elements(dip_transf, dip_blues, features)\n",
    "areas, perimeters, circularity, roundness, stand_dev, minimum, maximum = measurements_array(measurements, features)\n",
    "# blue_areas, m_blues, blue_grays = blue_area(crop_original,features)\n",
    "# areas_blue, perimeters_blue, circularity_blue, roundness_blue, std_blue, minimum_blue, maximum_blue = measurements_array(m_blues, features)\n"
   ]
  },
  {
   "cell_type": "code",
   "execution_count": null,
   "metadata": {},
   "outputs": [],
   "source": [
    "tot_area_blue = []\n",
    "tot_perim_blue = []\n",
    "tot_std_blue = []\n",
    "for i in range(len(areas_blue)):\n",
    "    tot_area_blue.append(np.sum(areas_blue[i]))\n",
    "    tot_perim_blue.append(np.sum(perimeters_blue[i]))\n",
    "    tot_std_blue.append(np.sum(std_blue[i]))\n",
    "\n",
    "blue_rel_area = np.divide(tot_area_blue,areas)\n",
    "blue_rel_perim = np.divide(tot_perim_blue,perimeters)\n",
    "perc_area_blues = blue_rel_area*100\n",
    "perc_perim_blues = blue_rel_perim*100"
   ]
  },
  {
   "cell_type": "code",
   "execution_count": null,
   "metadata": {},
   "outputs": [],
   "source": [
    "d = {'area': areas, 'perimeter': perimeters, 'roundness':roundness, 'circularity':circularity, \n",
    "                'area_blue': tot_area_blue, 'perimeter_blue': tot_perim_blue,\n",
    "                'relative_blue_area': blue_rel_area, 'relative_perim_area': blue_rel_perim,\n",
    "                'percentage_area_blue': perc_area_blues, 'percentage_perim_blue': perc_perim_blues, 'std_blue':tot_std_blue}\n",
    "df = pd.DataFrame(data=d)"
   ]
  },
  {
   "cell_type": "code",
   "execution_count": null,
   "metadata": {},
   "outputs": [],
   "source": [
    "df"
   ]
  },
  {
   "cell_type": "code",
   "execution_count": null,
   "metadata": {},
   "outputs": [],
   "source": [
    "d = {'std_embryo':stand_dev,'std_blue':tot_std_blue}\n",
    "df_texture = pd.DataFrame(data=d)"
   ]
  },
  {
   "cell_type": "code",
   "execution_count": null,
   "metadata": {},
   "outputs": [],
   "source": [
    "df_texture"
   ]
  },
  {
   "cell_type": "code",
   "execution_count": null,
   "metadata": {},
   "outputs": [],
   "source": [
    "plt.hist(stand_dev) \n"
   ]
  },
  {
   "cell_type": "code",
   "execution_count": null,
   "metadata": {},
   "outputs": [],
   "source": [
    "plt.hist(tot_std_blue)"
   ]
  },
  {
   "cell_type": "code",
   "execution_count": null,
   "metadata": {},
   "outputs": [],
   "source": [
    "norm_original = []\n",
    "\n",
    "for i in range(len(dip_images)):\n",
    "    arr = np.array(dip_images[i])\n",
    "    max = np.amax(arr)\n",
    "    min = np.amin(arr)\n",
    "    norm_original.append(dip.Image((np.array(dip_images[i]) - min) / (max - min)))\n",
    "\n",
    "\n"
   ]
  },
  {
   "cell_type": "code",
   "execution_count": null,
   "metadata": {},
   "outputs": [],
   "source": [
    "blues = make_grayscale(norm_original)\n",
    "save_images(blues, 'blues', \"blue\", file_type=[\"tif\"])"
   ]
  },
  {
   "cell_type": "code",
   "execution_count": null,
   "metadata": {},
   "outputs": [],
   "source": [
    "counter = 0\n",
    "fig, ax = plt.subplots(15,4,figsize=(20,60))\n",
    "for x in range(15):\n",
    "    for y in range(4):\n",
    "        if counter > 57:\n",
    "            continue\n",
    "        ax[x,y].imshow(crop_original[counter], cmap='binary_r')\n",
    "        counter += 1"
   ]
  },
  {
   "cell_type": "code",
   "execution_count": null,
   "metadata": {},
   "outputs": [],
   "source": [
    "counter = 0\n",
    "fig, ax = plt.subplots(15,4,figsize=(20,60))\n",
    "for x in range(15):\n",
    "    for y in range(4):\n",
    "        if counter > 57:\n",
    "            continue\n",
    "        ax[x,y].imshow(dip_transf[counter], cmap='binary_r')\n",
    "        counter += 1"
   ]
  },
  {
   "cell_type": "code",
   "execution_count": null,
   "metadata": {},
   "outputs": [],
   "source": [
    "def blue_area(dip_images: list,features):\n",
    "    \"\"\" Converts the diplip images to unit8 and threshold them to extract the gene expression\n",
    "    \"\"\"\n",
    "    grays = []\n",
    "    blue_areas = []\n",
    "    m =[]\n",
    "    for img in dip_images:\n",
    "        unit8 = dip.Convert(img, \"UINT8\")\n",
    "        gauss = dip.Gauss(unit8,sigmas=[20,20])\n",
    "        x = np.array(gauss)\n",
    "        gray = x[:,:,0]\n",
    "        grays.append(dip.Image(gray))\n",
    "        thresh = dip.OtsuThreshold(gray)\n",
    "        thresh = dip.Opening(thresh)\n",
    "        thresh = dip.Closing(thresh)\n",
    "        thresh = dip.Erosion(thresh)\n",
    "        thresh = dip.Dilation(thresh)\n",
    "        # thresh = dip.FillHoles(thresh)\n",
    "        arr = np.array(thresh)\n",
    "        inverted = 1 - arr\n",
    "        inverted = ~ arr\n",
    "        label = dip.Label(dip.Image(inverted), connectivity=1)\n",
    "        blue_areas.append(dip.Image(inverted))\n",
    "        m.append(dip.MeasurementTool.Measure(label, dip.Image(gray), features = features))\n",
    "    return blue_areas, m, grays"
   ]
  },
  {
   "cell_type": "code",
   "execution_count": null,
   "metadata": {},
   "outputs": [],
   "source": [
    "arr = np.array(crop_original[0])\n",
    "arr0 = arr[:,:,0]\n",
    "arr1 = arr[:,:,1]\n",
    "arr2 = arr[:,:,2]\n",
    "\n",
    "crop_original[0].Show()\n",
    "a = dip.Image(arr1-arr0)\n",
    "a = dip.Gauss(a, sigmas=[0.5])\n",
    "a=dip.Kuwahara(a, kernel='line',threshold = 10)\n",
    "a.Show()\n",
    "a = dip.OtsuThreshold(a)\n",
    "# a = dip.Opening(a)\n",
    "a = dip.Closing(a)\n",
    "a = dip.Erosion(a)\n",
    "# a = dip.Dilation(a)\n",
    "\n",
    "# a = dip.FillHoles(a)\n",
    "a.Show()"
   ]
  },
  {
   "cell_type": "code",
   "execution_count": null,
   "metadata": {},
   "outputs": [],
   "source": []
  }
 ],
 "metadata": {
  "interpreter": {
   "hash": "b134e35f1c6e29159023eba8bbf308b62c168a50f851ee85430275284d62dbae"
  },
  "kernelspec": {
   "display_name": "Python 3.8.11 ('Machine_Learning')",
   "language": "python",
   "name": "python3"
  },
  "language_info": {
   "codemirror_mode": {
    "name": "ipython",
    "version": 3
   },
   "file_extension": ".py",
   "mimetype": "text/x-python",
   "name": "python",
   "nbconvert_exporter": "python",
   "pygments_lexer": "ipython3",
   "version": "3.8.11"
  },
  "orig_nbformat": 4
 },
 "nbformat": 4,
 "nbformat_minor": 2
}
